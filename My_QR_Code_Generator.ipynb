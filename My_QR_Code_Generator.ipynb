{
  "nbformat": 4,
  "nbformat_minor": 0,
  "metadata": {
    "colab": {
      "provenance": []
    },
    "kernelspec": {
      "name": "python3",
      "display_name": "Python 3"
    }
  },
  "cells": [
    {
      "cell_type": "markdown",
      "source": [
        "**A QR code with a more user-friendly interface and experience in a Jupyter notebook by Worachat Wannawong, Ph.D.**\n",
        "\n",
        "---\n",
        "\n",
        "To create a QR code with a more user-friendly interface and experience in a Jupyter notebook, you can enhance the code with better input handling and display options. Here's an improved version:"
      ],
      "metadata": {
        "id": "ThxgyCvh6ugf"
      }
    },
    {
      "cell_type": "code",
      "source": [
        "# Install required libraries\n",
        "!pip install pyqrcode pypng Pillow\n",
        "\n",
        "import pyqrcode\n",
        "from PIL import Image\n",
        "from IPython.display import display, Image as IPImage\n",
        "\n",
        "# Function to generate and display a QR code\n",
        "def generate_qr_code():\n",
        "    # Input prompt with guidance\n",
        "    s = input(\"Enter the URL or text for the QR code: \")\n",
        "\n",
        "    # Create QR code\n",
        "    url = pyqrcode.create(s)\n",
        "\n",
        "    # Save the QR code as an image file\n",
        "    img = \"qr-code.png\"\n",
        "    url.png(img, scale=10)\n",
        "\n",
        "    # Open and display the QR code image\n",
        "    im = Image.open(img)\n",
        "    display(im)  # Display the image inline in the notebook\n",
        "    print(\"QR code generated and displayed successfully!\")\n",
        "\n",
        "# Run the function\n",
        "generate_qr_code()"
      ],
      "metadata": {
        "colab": {
          "base_uri": "https://localhost:8080/",
          "height": 779
        },
        "id": "aVf3aMbE6GwT",
        "outputId": "76b2cf28-4b81-4840-b1af-8eff4fb49002"
      },
      "execution_count": 1,
      "outputs": [
        {
          "name": "stdout",
          "output_type": "stream",
          "text": [
            "Collecting pyqrcode\n",
            "  Downloading PyQRCode-1.2.1.zip (41 kB)\n",
            "\u001b[?25l     \u001b[90m━━━━━━━━━━━━━━━━━━━━━━━━━━━━━━━━━━━━━━━━\u001b[0m \u001b[32m0.0/41.9 kB\u001b[0m \u001b[31m?\u001b[0m eta \u001b[36m-:--:--\u001b[0m\r\u001b[2K     \u001b[90m━━━━━━━━━━━━━━━━━━━━━━━━━━━━━━━━━━━━━━━━\u001b[0m \u001b[32m41.9/41.9 kB\u001b[0m \u001b[31m1.7 MB/s\u001b[0m eta \u001b[36m0:00:00\u001b[0m\n",
            "\u001b[?25h  Preparing metadata (setup.py) ... \u001b[?25l\u001b[?25hdone\n",
            "Collecting pypng\n",
            "  Downloading pypng-0.20220715.0-py3-none-any.whl.metadata (13 kB)\n",
            "Requirement already satisfied: Pillow in /usr/local/lib/python3.10/dist-packages (9.4.0)\n",
            "Downloading pypng-0.20220715.0-py3-none-any.whl (58 kB)\n",
            "\u001b[2K   \u001b[90m━━━━━━━━━━━━━━━━━━━━━━━━━━━━━━━━━━━━━━━━\u001b[0m \u001b[32m58.1/58.1 kB\u001b[0m \u001b[31m1.6 MB/s\u001b[0m eta \u001b[36m0:00:00\u001b[0m\n",
            "\u001b[?25hBuilding wheels for collected packages: pyqrcode\n",
            "  Building wheel for pyqrcode (setup.py) ... \u001b[?25l\u001b[?25hdone\n",
            "  Created wheel for pyqrcode: filename=PyQRCode-1.2.1-py3-none-any.whl size=36221 sha256=65b59bfbd0a07b16e349e951f5f00b3dc5d5a1e47b7b1b2a8d6a7709abbeb934\n",
            "  Stored in directory: /root/.cache/pip/wheels/34/2d/20/082874e49a32cdcc87ebaf99dd0099fb7774ef30f010dfb6f2\n",
            "Successfully built pyqrcode\n",
            "Installing collected packages: pyqrcode, pypng\n",
            "Successfully installed pypng-0.20220715.0 pyqrcode-1.2.1\n",
            "Enter the URL or text for the QR code: https://maps.app.goo.gl/R4YhN3XkbZAURPYy\n"
          ]
        },
        {
          "output_type": "display_data",
          "data": {
            "text/plain": [
              "<PIL.PngImagePlugin.PngImageFile image mode=1 size=450x450>"
            ],
            "image/png": "[encoded data removed]"
          },
          "metadata": {}
        },
        {
          "output_type": "stream",
          "name": "stdout",
          "text": [
            "QR code generated and displayed successfully!\n"
          ]
        }
      ]
    },
    {
      "cell_type": "markdown",
      "metadata": {
        "id": "zTpyUyWwqqrH"
      },
      "source": [
        "Install **pyqrcode** module"
      ]
    },
    {
      "cell_type": "code",
      "metadata": {
        "colab": {
          "base_uri": "https://localhost:8080/"
        },
        "id": "W6naPBt1obX4",
        "outputId": "621223ba-1bac-47b1-8103-6f6246a5bcdb"
      },
      "source": [
        "pip install pyqrcode"
      ],
      "execution_count": null,
      "outputs": [
        {
          "output_type": "stream",
          "text": [
            "Collecting pyqrcode\n",
            "  Downloading https://files.pythonhosted.org/packages/37/61/f07226075c347897937d4086ef8e55f0a62ae535e28069884ac68d979316/PyQRCode-1.2.1.tar.gz\n",
            "Building wheels for collected packages: pyqrcode\n",
            "  Building wheel for pyqrcode (setup.py) ... \u001b[?25l\u001b[?25hdone\n",
            "  Created wheel for pyqrcode: filename=PyQRCode-1.2.1-cp37-none-any.whl size=36245 sha256=3d994ded91203060d6eca5176e9abdbef37c34119869a7a046d2023b11bcccea\n",
            "  Stored in directory: /root/.cache/pip/wheels/54/61/2f/a4f51b09473db5737db0f654ed10eb9a4ee01f83a7412de349\n",
            "Successfully built pyqrcode\n",
            "Installing collected packages: pyqrcode\n",
            "Successfully installed pyqrcode-1.2.1\n"
          ],
          "name": "stdout"
        }
      ]
    },
    {
      "cell_type": "markdown",
      "source": [
        "**Enhancements:**\n",
        "\n",
        "---\n",
        "\n",
        "1.  **Guided Input: ** The input prompt provides clear instructions, making it more user-friendly.\n",
        "2.  **Inline Display: ** The QR code is displayed directly within the notebook using IPython.display, improving the overall user experience.\n",
        "3.  **Feedback: ** The script confirms successful generation and display of the QR code.\n",
        "\n",
        "---\n",
        "\n",
        "This setup should provide a more polished and interactive experience for generating QR codes in Jupyter.\n",
        "\n",
        "\n",
        "---\n",
        "\n",
        "\n",
        "**Step by Step: User can start from here**"
      ],
      "metadata": {
        "id": "uB6S699p7IV1"
      }
    },
    {
      "cell_type": "markdown",
      "metadata": {
        "id": "kA0t2oG3q0AU"
      },
      "source": [
        "Install an additional module **pypng** to save image in png format"
      ]
    },
    {
      "cell_type": "code",
      "metadata": {
        "colab": {
          "base_uri": "https://localhost:8080/"
        },
        "id": "o4LlHN4foisN",
        "outputId": "f1b0acfa-6a6a-4e4a-877c-9f703fdf9190"
      },
      "source": [
        "pip install pypng"
      ],
      "execution_count": null,
      "outputs": [
        {
          "output_type": "stream",
          "text": [
            "Collecting pypng\n",
            "\u001b[?25l  Downloading https://files.pythonhosted.org/packages/bc/fb/f719f1ac965e2101aa6ea6f54ef8b40f8fbb033f6ad07c017663467f5147/pypng-0.0.20.tar.gz (649kB)\n",
            "\r\u001b[K     |▌                               | 10kB 17.3MB/s eta 0:00:01\r\u001b[K     |█                               | 20kB 17.0MB/s eta 0:00:01\r\u001b[K     |█▌                              | 30kB 10.0MB/s eta 0:00:01\r\u001b[K     |██                              | 40kB 8.2MB/s eta 0:00:01\r\u001b[K     |██▌                             | 51kB 7.9MB/s eta 0:00:01\r\u001b[K     |███                             | 61kB 8.1MB/s eta 0:00:01\r\u001b[K     |███▌                            | 71kB 8.7MB/s eta 0:00:01\r\u001b[K     |████                            | 81kB 8.9MB/s eta 0:00:01\r\u001b[K     |████▌                           | 92kB 7.6MB/s eta 0:00:01\r\u001b[K     |█████                           | 102kB 7.6MB/s eta 0:00:01\r\u001b[K     |█████▌                          | 112kB 7.6MB/s eta 0:00:01\r\u001b[K     |██████                          | 122kB 7.6MB/s eta 0:00:01\r\u001b[K     |██████▋                         | 133kB 7.6MB/s eta 0:00:01\r\u001b[K     |███████                         | 143kB 7.6MB/s eta 0:00:01\r\u001b[K     |███████▋                        | 153kB 7.6MB/s eta 0:00:01\r\u001b[K     |████████                        | 163kB 7.6MB/s eta 0:00:01\r\u001b[K     |████████▋                       | 174kB 7.6MB/s eta 0:00:01\r\u001b[K     |█████████                       | 184kB 7.6MB/s eta 0:00:01\r\u001b[K     |█████████▋                      | 194kB 7.6MB/s eta 0:00:01\r\u001b[K     |██████████                      | 204kB 7.6MB/s eta 0:00:01\r\u001b[K     |██████████▋                     | 215kB 7.6MB/s eta 0:00:01\r\u001b[K     |███████████                     | 225kB 7.6MB/s eta 0:00:01\r\u001b[K     |███████████▋                    | 235kB 7.6MB/s eta 0:00:01\r\u001b[K     |████████████                    | 245kB 7.6MB/s eta 0:00:01\r\u001b[K     |████████████▋                   | 256kB 7.6MB/s eta 0:00:01\r\u001b[K     |█████████████▏                  | 266kB 7.6MB/s eta 0:00:01\r\u001b[K     |█████████████▋                  | 276kB 7.6MB/s eta 0:00:01\r\u001b[K     |██████████████▏                 | 286kB 7.6MB/s eta 0:00:01\r\u001b[K     |██████████████▋                 | 296kB 7.6MB/s eta 0:00:01\r\u001b[K     |███████████████▏                | 307kB 7.6MB/s eta 0:00:01\r\u001b[K     |███████████████▋                | 317kB 7.6MB/s eta 0:00:01\r\u001b[K     |████████████████▏               | 327kB 7.6MB/s eta 0:00:01\r\u001b[K     |████████████████▋               | 337kB 7.6MB/s eta 0:00:01\r\u001b[K     |█████████████████▏              | 348kB 7.6MB/s eta 0:00:01\r\u001b[K     |█████████████████▋              | 358kB 7.6MB/s eta 0:00:01\r\u001b[K     |██████████████████▏             | 368kB 7.6MB/s eta 0:00:01\r\u001b[K     |██████████████████▋             | 378kB 7.6MB/s eta 0:00:01\r\u001b[K     |███████████████████▏            | 389kB 7.6MB/s eta 0:00:01\r\u001b[K     |███████████████████▊            | 399kB 7.6MB/s eta 0:00:01\r\u001b[K     |████████████████████▏           | 409kB 7.6MB/s eta 0:00:01\r\u001b[K     |████████████████████▊           | 419kB 7.6MB/s eta 0:00:01\r\u001b[K     |█████████████████████▏          | 430kB 7.6MB/s eta 0:00:01\r\u001b[K     |█████████████████████▊          | 440kB 7.6MB/s eta 0:00:01\r\u001b[K     |██████████████████████▏         | 450kB 7.6MB/s eta 0:00:01\r\u001b[K     |██████████████████████▊         | 460kB 7.6MB/s eta 0:00:01\r\u001b[K     |███████████████████████▏        | 471kB 7.6MB/s eta 0:00:01\r\u001b[K     |███████████████████████▊        | 481kB 7.6MB/s eta 0:00:01\r\u001b[K     |████████████████████████▏       | 491kB 7.6MB/s eta 0:00:01\r\u001b[K     |████████████████████████▊       | 501kB 7.6MB/s eta 0:00:01\r\u001b[K     |█████████████████████████▎      | 512kB 7.6MB/s eta 0:00:01\r\u001b[K     |█████████████████████████▊      | 522kB 7.6MB/s eta 0:00:01\r\u001b[K     |██████████████████████████▎     | 532kB 7.6MB/s eta 0:00:01\r\u001b[K     |██████████████████████████▊     | 542kB 7.6MB/s eta 0:00:01\r\u001b[K     |███████████████████████████▎    | 552kB 7.6MB/s eta 0:00:01\r\u001b[K     |███████████████████████████▊    | 563kB 7.6MB/s eta 0:00:01\r\u001b[K     |████████████████████████████▎   | 573kB 7.6MB/s eta 0:00:01\r\u001b[K     |████████████████████████████▊   | 583kB 7.6MB/s eta 0:00:01\r\u001b[K     |█████████████████████████████▎  | 593kB 7.6MB/s eta 0:00:01\r\u001b[K     |█████████████████████████████▊  | 604kB 7.6MB/s eta 0:00:01\r\u001b[K     |██████████████████████████████▎ | 614kB 7.6MB/s eta 0:00:01\r\u001b[K     |██████████████████████████████▊ | 624kB 7.6MB/s eta 0:00:01\r\u001b[K     |███████████████████████████████▎| 634kB 7.6MB/s eta 0:00:01\r\u001b[K     |███████████████████████████████▉| 645kB 7.6MB/s eta 0:00:01\r\u001b[K     |████████████████████████████████| 655kB 7.6MB/s \n",
            "\u001b[?25hBuilding wheels for collected packages: pypng\n",
            "  Building wheel for pypng (setup.py) ... \u001b[?25l\u001b[?25hdone\n",
            "  Created wheel for pypng: filename=pypng-0.0.20-cp37-none-any.whl size=67163 sha256=403eb012c52aaf6ffc82d6150c7ff8a417a4c523c019629d6ca1366054d9b372\n",
            "  Stored in directory: /root/.cache/pip/wheels/41/6b/ef/0493b536b6d4722c2ae9486691b1d49b922b9877922beeabb3\n",
            "Successfully built pypng\n",
            "Installing collected packages: pypng\n",
            "Successfully installed pypng-0.0.20\n"
          ],
          "name": "stdout"
        }
      ]
    },
    {
      "cell_type": "markdown",
      "metadata": {
        "id": "E6oBkkP6q_hf"
      },
      "source": [
        "To open Image, install **Pillow** module"
      ]
    },
    {
      "cell_type": "code",
      "metadata": {
        "colab": {
          "base_uri": "https://localhost:8080/"
        },
        "id": "8s-s2I-jom-c",
        "outputId": "68d2e65f-227e-428a-abf3-18102a356641"
      },
      "source": [
        "pip install Pillow"
      ],
      "execution_count": null,
      "outputs": [
        {
          "output_type": "stream",
          "text": [
            "Requirement already satisfied: Pillow in /usr/local/lib/python3.7/dist-packages (7.0.0)\n"
          ],
          "name": "stdout"
        }
      ]
    },
    {
      "cell_type": "markdown",
      "metadata": {
        "id": "L3JwMqYfrGit"
      },
      "source": [
        "# Code"
      ]
    },
    {
      "cell_type": "code",
      "metadata": {
        "colab": {
          "base_uri": "https://localhost:8080/",
          "height": 822
        },
        "id": "8gDOSnekor1b",
        "outputId": "f58c6c93-38dd-4c94-93a8-99e67a377023"
      },
      "source": [
        "import pyqrcode\n",
        "import png\n",
        "from PIL import Image\n",
        "\n",
        "#inserting website name\n",
        "s = input(\"Enter your website: \")\n",
        "print(s)\n",
        "url = pyqrcode.create(s)\n",
        "\n",
        "#saving image\n",
        "img = \"qr-code.png\"\n",
        "url.png(img, scale=10)\n",
        "\n",
        "#opening image\n",
        "im=Image.open(img)\n",
        "\n",
        "#show\n",
        "im"
      ],
      "execution_count": 6,
      "outputs": [
        {
          "output_type": "stream",
          "name": "stdout",
          "text": [
            "Enter your website: https://lh5.googleusercontent.com/eBUqzmHiPg1mPow4sjUk0QVq-tERSnoQTY4hQAgxp7bThjXBaMoexaNhkRGORfwBRQSS0Y3AU2-15EEr-1snZpOdaW5RqiEBBRK5yU-5u6BzRAC-fHXvJ9vazrElb1ti7w=w1280\n",
            "https://lh5.googleusercontent.com/eBUqzmHiPg1mPow4sjUk0QVq-tERSnoQTY4hQAgxp7bThjXBaMoexaNhkRGORfwBRQSS0Y3AU2-15EEr-1snZpOdaW5RqiEBBRK5yU-5u6BzRAC-fHXvJ9vazrElb1ti7w=w1280\n"
          ]
        },
        {
          "output_type": "execute_result",
          "data": {
            "text/plain": [
              "<PIL.PngImagePlugin.PngImageFile image mode=1 size=770x770>"
            ],
            "image/png": "[encoded data removed]"
          },
          "metadata": {},
          "execution_count": 6
        }
      ]
    }
  ]
}